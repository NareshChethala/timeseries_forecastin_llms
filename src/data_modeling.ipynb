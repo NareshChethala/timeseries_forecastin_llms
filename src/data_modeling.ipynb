{
 "cells": [
  {
   "cell_type": "code",
   "execution_count": 1,
   "id": "e22498fa",
   "metadata": {},
   "outputs": [
    {
     "name": "stdout",
     "output_type": "stream",
     "text": [
      "Requirement already satisfied: pandas in /Users/nareshchethala/.virtualenv/timeseries/lib/python3.13/site-packages (2.3.2)\n",
      "Requirement already satisfied: matplotlib in /Users/nareshchethala/.virtualenv/timeseries/lib/python3.13/site-packages (3.10.6)\n",
      "Requirement already satisfied: seaborn in /Users/nareshchethala/.virtualenv/timeseries/lib/python3.13/site-packages (0.13.2)\n",
      "Requirement already satisfied: scikit-learn in /Users/nareshchethala/.virtualenv/timeseries/lib/python3.13/site-packages (1.7.2)\n",
      "Requirement already satisfied: transformers in /Users/nareshchethala/.virtualenv/timeseries/lib/python3.13/site-packages (4.56.1)\n",
      "Requirement already satisfied: datasets in /Users/nareshchethala/.virtualenv/timeseries/lib/python3.13/site-packages (4.0.0)\n",
      "Requirement already satisfied: numpy>=1.26.0 in /Users/nareshchethala/.virtualenv/timeseries/lib/python3.13/site-packages (from pandas) (2.3.3)\n",
      "Requirement already satisfied: python-dateutil>=2.8.2 in /Users/nareshchethala/.virtualenv/timeseries/lib/python3.13/site-packages (from pandas) (2.9.0.post0)\n",
      "Requirement already satisfied: pytz>=2020.1 in /Users/nareshchethala/.virtualenv/timeseries/lib/python3.13/site-packages (from pandas) (2025.2)\n",
      "Requirement already satisfied: tzdata>=2022.7 in /Users/nareshchethala/.virtualenv/timeseries/lib/python3.13/site-packages (from pandas) (2025.2)\n",
      "Requirement already satisfied: contourpy>=1.0.1 in /Users/nareshchethala/.virtualenv/timeseries/lib/python3.13/site-packages (from matplotlib) (1.3.3)\n",
      "Requirement already satisfied: cycler>=0.10 in /Users/nareshchethala/.virtualenv/timeseries/lib/python3.13/site-packages (from matplotlib) (0.12.1)\n",
      "Requirement already satisfied: fonttools>=4.22.0 in /Users/nareshchethala/.virtualenv/timeseries/lib/python3.13/site-packages (from matplotlib) (4.59.2)\n",
      "Requirement already satisfied: kiwisolver>=1.3.1 in /Users/nareshchethala/.virtualenv/timeseries/lib/python3.13/site-packages (from matplotlib) (1.4.9)\n",
      "Requirement already satisfied: packaging>=20.0 in /Users/nareshchethala/.virtualenv/timeseries/lib/python3.13/site-packages (from matplotlib) (25.0)\n",
      "Requirement already satisfied: pillow>=8 in /Users/nareshchethala/.virtualenv/timeseries/lib/python3.13/site-packages (from matplotlib) (11.3.0)\n",
      "Requirement already satisfied: pyparsing>=2.3.1 in /Users/nareshchethala/.virtualenv/timeseries/lib/python3.13/site-packages (from matplotlib) (3.2.4)\n",
      "Requirement already satisfied: scipy>=1.8.0 in /Users/nareshchethala/.virtualenv/timeseries/lib/python3.13/site-packages (from scikit-learn) (1.16.2)\n",
      "Requirement already satisfied: joblib>=1.2.0 in /Users/nareshchethala/.virtualenv/timeseries/lib/python3.13/site-packages (from scikit-learn) (1.5.2)\n",
      "Requirement already satisfied: threadpoolctl>=3.1.0 in /Users/nareshchethala/.virtualenv/timeseries/lib/python3.13/site-packages (from scikit-learn) (3.6.0)\n",
      "Requirement already satisfied: filelock in /Users/nareshchethala/.virtualenv/timeseries/lib/python3.13/site-packages (from transformers) (3.19.1)\n",
      "Requirement already satisfied: huggingface-hub<1.0,>=0.34.0 in /Users/nareshchethala/.virtualenv/timeseries/lib/python3.13/site-packages (from transformers) (0.34.4)\n",
      "Requirement already satisfied: pyyaml>=5.1 in /Users/nareshchethala/.virtualenv/timeseries/lib/python3.13/site-packages (from transformers) (6.0.2)\n",
      "Requirement already satisfied: regex!=2019.12.17 in /Users/nareshchethala/.virtualenv/timeseries/lib/python3.13/site-packages (from transformers) (2025.9.1)\n",
      "Requirement already satisfied: requests in /Users/nareshchethala/.virtualenv/timeseries/lib/python3.13/site-packages (from transformers) (2.32.5)\n",
      "Requirement already satisfied: tokenizers<=0.23.0,>=0.22.0 in /Users/nareshchethala/.virtualenv/timeseries/lib/python3.13/site-packages (from transformers) (0.22.0)\n",
      "Requirement already satisfied: safetensors>=0.4.3 in /Users/nareshchethala/.virtualenv/timeseries/lib/python3.13/site-packages (from transformers) (0.6.2)\n",
      "Requirement already satisfied: tqdm>=4.27 in /Users/nareshchethala/.virtualenv/timeseries/lib/python3.13/site-packages (from transformers) (4.67.1)\n",
      "Requirement already satisfied: fsspec>=2023.5.0 in /Users/nareshchethala/.virtualenv/timeseries/lib/python3.13/site-packages (from huggingface-hub<1.0,>=0.34.0->transformers) (2025.3.0)\n",
      "Requirement already satisfied: typing-extensions>=3.7.4.3 in /Users/nareshchethala/.virtualenv/timeseries/lib/python3.13/site-packages (from huggingface-hub<1.0,>=0.34.0->transformers) (4.15.0)\n",
      "Requirement already satisfied: hf-xet<2.0.0,>=1.1.3 in /Users/nareshchethala/.virtualenv/timeseries/lib/python3.13/site-packages (from huggingface-hub<1.0,>=0.34.0->transformers) (1.1.10)\n",
      "Requirement already satisfied: pyarrow>=15.0.0 in /Users/nareshchethala/.virtualenv/timeseries/lib/python3.13/site-packages (from datasets) (21.0.0)\n",
      "Requirement already satisfied: dill<0.3.9,>=0.3.0 in /Users/nareshchethala/.virtualenv/timeseries/lib/python3.13/site-packages (from datasets) (0.3.8)\n",
      "Requirement already satisfied: xxhash in /Users/nareshchethala/.virtualenv/timeseries/lib/python3.13/site-packages (from datasets) (3.5.0)\n",
      "Requirement already satisfied: multiprocess<0.70.17 in /Users/nareshchethala/.virtualenv/timeseries/lib/python3.13/site-packages (from datasets) (0.70.16)\n",
      "Requirement already satisfied: aiohttp!=4.0.0a0,!=4.0.0a1 in /Users/nareshchethala/.virtualenv/timeseries/lib/python3.13/site-packages (from fsspec[http]<=2025.3.0,>=2023.1.0->datasets) (3.12.15)\n",
      "Requirement already satisfied: aiohappyeyeballs>=2.5.0 in /Users/nareshchethala/.virtualenv/timeseries/lib/python3.13/site-packages (from aiohttp!=4.0.0a0,!=4.0.0a1->fsspec[http]<=2025.3.0,>=2023.1.0->datasets) (2.6.1)\n",
      "Requirement already satisfied: aiosignal>=1.4.0 in /Users/nareshchethala/.virtualenv/timeseries/lib/python3.13/site-packages (from aiohttp!=4.0.0a0,!=4.0.0a1->fsspec[http]<=2025.3.0,>=2023.1.0->datasets) (1.4.0)\n",
      "Requirement already satisfied: attrs>=17.3.0 in /Users/nareshchethala/.virtualenv/timeseries/lib/python3.13/site-packages (from aiohttp!=4.0.0a0,!=4.0.0a1->fsspec[http]<=2025.3.0,>=2023.1.0->datasets) (25.3.0)\n",
      "Requirement already satisfied: frozenlist>=1.1.1 in /Users/nareshchethala/.virtualenv/timeseries/lib/python3.13/site-packages (from aiohttp!=4.0.0a0,!=4.0.0a1->fsspec[http]<=2025.3.0,>=2023.1.0->datasets) (1.7.0)\n",
      "Requirement already satisfied: multidict<7.0,>=4.5 in /Users/nareshchethala/.virtualenv/timeseries/lib/python3.13/site-packages (from aiohttp!=4.0.0a0,!=4.0.0a1->fsspec[http]<=2025.3.0,>=2023.1.0->datasets) (6.6.4)\n",
      "Requirement already satisfied: propcache>=0.2.0 in /Users/nareshchethala/.virtualenv/timeseries/lib/python3.13/site-packages (from aiohttp!=4.0.0a0,!=4.0.0a1->fsspec[http]<=2025.3.0,>=2023.1.0->datasets) (0.3.2)\n",
      "Requirement already satisfied: yarl<2.0,>=1.17.0 in /Users/nareshchethala/.virtualenv/timeseries/lib/python3.13/site-packages (from aiohttp!=4.0.0a0,!=4.0.0a1->fsspec[http]<=2025.3.0,>=2023.1.0->datasets) (1.20.1)\n",
      "Requirement already satisfied: idna>=2.0 in /Users/nareshchethala/.virtualenv/timeseries/lib/python3.13/site-packages (from yarl<2.0,>=1.17.0->aiohttp!=4.0.0a0,!=4.0.0a1->fsspec[http]<=2025.3.0,>=2023.1.0->datasets) (3.10)\n",
      "Requirement already satisfied: six>=1.5 in /Users/nareshchethala/.virtualenv/timeseries/lib/python3.13/site-packages (from python-dateutil>=2.8.2->pandas) (1.17.0)\n",
      "Requirement already satisfied: charset_normalizer<4,>=2 in /Users/nareshchethala/.virtualenv/timeseries/lib/python3.13/site-packages (from requests->transformers) (3.4.3)\n",
      "Requirement already satisfied: urllib3<3,>=1.21.1 in /Users/nareshchethala/.virtualenv/timeseries/lib/python3.13/site-packages (from requests->transformers) (2.5.0)\n",
      "Requirement already satisfied: certifi>=2017.4.17 in /Users/nareshchethala/.virtualenv/timeseries/lib/python3.13/site-packages (from requests->transformers) (2025.8.3)\n"
     ]
    }
   ],
   "source": [
    "!pip install pandas matplotlib seaborn scikit-learn transformers datasets"
   ]
  },
  {
   "cell_type": "code",
   "execution_count": 2,
   "id": "42224cb2",
   "metadata": {},
   "outputs": [
    {
     "name": "stdout",
     "output_type": "stream",
     "text": [
      "Requirement already satisfied: plotnine in /Users/nareshchethala/.virtualenv/timeseries/lib/python3.13/site-packages (0.15.0)\n",
      "Requirement already satisfied: matplotlib>=3.8.0 in /Users/nareshchethala/.virtualenv/timeseries/lib/python3.13/site-packages (from plotnine) (3.10.6)\n",
      "Requirement already satisfied: pandas>=2.2.0 in /Users/nareshchethala/.virtualenv/timeseries/lib/python3.13/site-packages (from plotnine) (2.3.2)\n",
      "Requirement already satisfied: mizani~=0.14.0 in /Users/nareshchethala/.virtualenv/timeseries/lib/python3.13/site-packages (from plotnine) (0.14.2)\n",
      "Requirement already satisfied: numpy>=1.23.5 in /Users/nareshchethala/.virtualenv/timeseries/lib/python3.13/site-packages (from plotnine) (2.3.3)\n",
      "Requirement already satisfied: scipy>=1.8.0 in /Users/nareshchethala/.virtualenv/timeseries/lib/python3.13/site-packages (from plotnine) (1.16.2)\n",
      "Requirement already satisfied: statsmodels>=0.14.5 in /Users/nareshchethala/.virtualenv/timeseries/lib/python3.13/site-packages (from plotnine) (0.14.5)\n",
      "Requirement already satisfied: contourpy>=1.0.1 in /Users/nareshchethala/.virtualenv/timeseries/lib/python3.13/site-packages (from matplotlib>=3.8.0->plotnine) (1.3.3)\n",
      "Requirement already satisfied: cycler>=0.10 in /Users/nareshchethala/.virtualenv/timeseries/lib/python3.13/site-packages (from matplotlib>=3.8.0->plotnine) (0.12.1)\n",
      "Requirement already satisfied: fonttools>=4.22.0 in /Users/nareshchethala/.virtualenv/timeseries/lib/python3.13/site-packages (from matplotlib>=3.8.0->plotnine) (4.59.2)\n",
      "Requirement already satisfied: kiwisolver>=1.3.1 in /Users/nareshchethala/.virtualenv/timeseries/lib/python3.13/site-packages (from matplotlib>=3.8.0->plotnine) (1.4.9)\n",
      "Requirement already satisfied: packaging>=20.0 in /Users/nareshchethala/.virtualenv/timeseries/lib/python3.13/site-packages (from matplotlib>=3.8.0->plotnine) (25.0)\n",
      "Requirement already satisfied: pillow>=8 in /Users/nareshchethala/.virtualenv/timeseries/lib/python3.13/site-packages (from matplotlib>=3.8.0->plotnine) (11.3.0)\n",
      "Requirement already satisfied: pyparsing>=2.3.1 in /Users/nareshchethala/.virtualenv/timeseries/lib/python3.13/site-packages (from matplotlib>=3.8.0->plotnine) (3.2.4)\n",
      "Requirement already satisfied: python-dateutil>=2.7 in /Users/nareshchethala/.virtualenv/timeseries/lib/python3.13/site-packages (from matplotlib>=3.8.0->plotnine) (2.9.0.post0)\n",
      "Requirement already satisfied: pytz>=2020.1 in /Users/nareshchethala/.virtualenv/timeseries/lib/python3.13/site-packages (from pandas>=2.2.0->plotnine) (2025.2)\n",
      "Requirement already satisfied: tzdata>=2022.7 in /Users/nareshchethala/.virtualenv/timeseries/lib/python3.13/site-packages (from pandas>=2.2.0->plotnine) (2025.2)\n",
      "Requirement already satisfied: six>=1.5 in /Users/nareshchethala/.virtualenv/timeseries/lib/python3.13/site-packages (from python-dateutil>=2.7->matplotlib>=3.8.0->plotnine) (1.17.0)\n",
      "Requirement already satisfied: patsy>=0.5.6 in /Users/nareshchethala/.virtualenv/timeseries/lib/python3.13/site-packages (from statsmodels>=0.14.5->plotnine) (1.0.1)\n"
     ]
    }
   ],
   "source": [
    "!pip install plotnine"
   ]
  },
  {
   "cell_type": "code",
   "execution_count": 3,
   "id": "94b5f0cd",
   "metadata": {},
   "outputs": [
    {
     "name": "stdout",
     "output_type": "stream",
     "text": [
      "Requirement already satisfied: torch in /Users/nareshchethala/.virtualenv/timeseries/lib/python3.13/site-packages (2.8.0)\n",
      "Requirement already satisfied: torchvision in /Users/nareshchethala/.virtualenv/timeseries/lib/python3.13/site-packages (0.23.0)\n",
      "Requirement already satisfied: filelock in /Users/nareshchethala/.virtualenv/timeseries/lib/python3.13/site-packages (from torch) (3.19.1)\n",
      "Requirement already satisfied: typing-extensions>=4.10.0 in /Users/nareshchethala/.virtualenv/timeseries/lib/python3.13/site-packages (from torch) (4.15.0)\n",
      "Requirement already satisfied: setuptools in /Users/nareshchethala/.virtualenv/timeseries/lib/python3.13/site-packages (from torch) (80.9.0)\n",
      "Requirement already satisfied: sympy>=1.13.3 in /Users/nareshchethala/.virtualenv/timeseries/lib/python3.13/site-packages (from torch) (1.14.0)\n",
      "Requirement already satisfied: networkx in /Users/nareshchethala/.virtualenv/timeseries/lib/python3.13/site-packages (from torch) (3.5)\n",
      "Requirement already satisfied: jinja2 in /Users/nareshchethala/.virtualenv/timeseries/lib/python3.13/site-packages (from torch) (3.1.6)\n",
      "Requirement already satisfied: fsspec in /Users/nareshchethala/.virtualenv/timeseries/lib/python3.13/site-packages (from torch) (2025.3.0)\n",
      "Requirement already satisfied: numpy in /Users/nareshchethala/.virtualenv/timeseries/lib/python3.13/site-packages (from torchvision) (2.3.3)\n",
      "Requirement already satisfied: pillow!=8.3.*,>=5.3.0 in /Users/nareshchethala/.virtualenv/timeseries/lib/python3.13/site-packages (from torchvision) (11.3.0)\n",
      "Requirement already satisfied: mpmath<1.4,>=1.1.0 in /Users/nareshchethala/.virtualenv/timeseries/lib/python3.13/site-packages (from sympy>=1.13.3->torch) (1.3.0)\n",
      "Requirement already satisfied: MarkupSafe>=2.0 in /Users/nareshchethala/.virtualenv/timeseries/lib/python3.13/site-packages (from jinja2->torch) (3.0.2)\n"
     ]
    }
   ],
   "source": [
    "!pip3 install torch torchvision"
   ]
  },
  {
   "cell_type": "code",
   "execution_count": 4,
   "id": "410590b5",
   "metadata": {},
   "outputs": [
    {
     "name": "stderr",
     "output_type": "stream",
     "text": [
      "/Users/nareshchethala/.virtualenv/timeseries/lib/python3.13/site-packages/tqdm/auto.py:21: TqdmWarning: IProgress not found. Please update jupyter and ipywidgets. See https://ipywidgets.readthedocs.io/en/stable/user_install.html\n",
      "  from .autonotebook import tqdm as notebook_tqdm\n"
     ]
    }
   ],
   "source": [
    "import pandas as pd\n",
    "import matplotlib.pyplot as plt\n",
    "import seaborn as sns\n",
    "from sklearn.model_selection import train_test_split\n",
    "from sklearn.preprocessing import StandardScaler\n",
    "from transformers import BertTokenizer, BertModel\n",
    "from datasets import Dataset\n",
    "from plotnine import *\n",
    "import numpy as np\n",
    "from tqdm import tqdm\n",
    "import torch.nn as nn"
   ]
  },
  {
   "cell_type": "code",
   "execution_count": 5,
   "id": "b58ef051",
   "metadata": {},
   "outputs": [
    {
     "name": "stdout",
     "output_type": "stream",
     "text": [
      "\u001b[30m\u001b[47mduring_pre_post copy.csv\u001b[m\u001b[m\n"
     ]
    }
   ],
   "source": [
    "ls ../data"
   ]
  },
  {
   "cell_type": "code",
   "execution_count": 6,
   "id": "1c52744a",
   "metadata": {},
   "outputs": [],
   "source": [
    "mv ../data/during_pre_post\\ copy.csv ../data/during_pre_post.csv"
   ]
  },
  {
   "cell_type": "code",
   "execution_count": 7,
   "id": "b9562245",
   "metadata": {},
   "outputs": [],
   "source": [
    "df = pd.read_csv('../data/during_pre_post.csv')"
   ]
  },
  {
   "cell_type": "code",
   "execution_count": 8,
   "id": "591055a0",
   "metadata": {},
   "outputs": [
    {
     "data": {
      "text/html": [
       "<div>\n",
       "<style scoped>\n",
       "    .dataframe tbody tr th:only-of-type {\n",
       "        vertical-align: middle;\n",
       "    }\n",
       "\n",
       "    .dataframe tbody tr th {\n",
       "        vertical-align: top;\n",
       "    }\n",
       "\n",
       "    .dataframe thead th {\n",
       "        text-align: right;\n",
       "    }\n",
       "</style>\n",
       "<table border=\"1\" class=\"dataframe\">\n",
       "  <thead>\n",
       "    <tr style=\"text-align: right;\">\n",
       "      <th></th>\n",
       "      <th>tickerdate</th>\n",
       "      <th>tickertime</th>\n",
       "      <th>index_symbol</th>\n",
       "      <th>market_phase</th>\n",
       "      <th>open</th>\n",
       "      <th>high</th>\n",
       "      <th>low</th>\n",
       "      <th>close</th>\n",
       "    </tr>\n",
       "  </thead>\n",
       "  <tbody>\n",
       "    <tr>\n",
       "      <th>0</th>\n",
       "      <td>2007-10-26</td>\n",
       "      <td>11:59:00</td>\n",
       "      <td>SPX</td>\n",
       "      <td>GFC_Crash</td>\n",
       "      <td>1523.00</td>\n",
       "      <td>1523.00</td>\n",
       "      <td>1521.97</td>\n",
       "      <td>1521.97</td>\n",
       "    </tr>\n",
       "    <tr>\n",
       "      <th>1</th>\n",
       "      <td>2007-11-02</td>\n",
       "      <td>12:47:00</td>\n",
       "      <td>SPX</td>\n",
       "      <td>GFC_Crash</td>\n",
       "      <td>1508.00</td>\n",
       "      <td>1508.50</td>\n",
       "      <td>1508.00</td>\n",
       "      <td>1508.46</td>\n",
       "    </tr>\n",
       "    <tr>\n",
       "      <th>2</th>\n",
       "      <td>2007-11-21</td>\n",
       "      <td>15:37:00</td>\n",
       "      <td>SPX</td>\n",
       "      <td>GFC_Crash</td>\n",
       "      <td>1425.00</td>\n",
       "      <td>1425.00</td>\n",
       "      <td>1423.97</td>\n",
       "      <td>1424.25</td>\n",
       "    </tr>\n",
       "    <tr>\n",
       "      <th>3</th>\n",
       "      <td>2007-12-11</td>\n",
       "      <td>10:37:00</td>\n",
       "      <td>SPX</td>\n",
       "      <td>GFC_Crash</td>\n",
       "      <td>1515.16</td>\n",
       "      <td>1515.16</td>\n",
       "      <td>1515.00</td>\n",
       "      <td>1515.00</td>\n",
       "    </tr>\n",
       "    <tr>\n",
       "      <th>4</th>\n",
       "      <td>2008-02-20</td>\n",
       "      <td>15:49:00</td>\n",
       "      <td>SPX</td>\n",
       "      <td>GFC_Crash</td>\n",
       "      <td>1357.00</td>\n",
       "      <td>1357.00</td>\n",
       "      <td>1356.31</td>\n",
       "      <td>1356.61</td>\n",
       "    </tr>\n",
       "  </tbody>\n",
       "</table>\n",
       "</div>"
      ],
      "text/plain": [
       "   tickerdate tickertime index_symbol market_phase     open     high      low  \\\n",
       "0  2007-10-26   11:59:00          SPX    GFC_Crash  1523.00  1523.00  1521.97   \n",
       "1  2007-11-02   12:47:00          SPX    GFC_Crash  1508.00  1508.50  1508.00   \n",
       "2  2007-11-21   15:37:00          SPX    GFC_Crash  1425.00  1425.00  1423.97   \n",
       "3  2007-12-11   10:37:00          SPX    GFC_Crash  1515.16  1515.16  1515.00   \n",
       "4  2008-02-20   15:49:00          SPX    GFC_Crash  1357.00  1357.00  1356.31   \n",
       "\n",
       "     close  \n",
       "0  1521.97  \n",
       "1  1508.46  \n",
       "2  1424.25  \n",
       "3  1515.00  \n",
       "4  1356.61  "
      ]
     },
     "execution_count": 8,
     "metadata": {},
     "output_type": "execute_result"
    }
   ],
   "source": [
    "df.head()"
   ]
  },
  {
   "cell_type": "code",
   "execution_count": 9,
   "id": "7b266a7b",
   "metadata": {},
   "outputs": [],
   "source": [
    "# Drop column \"market_phase\"\n",
    "df = df.drop(columns=[\"market_phase\"])"
   ]
  },
  {
   "cell_type": "code",
   "execution_count": 10,
   "id": "9bd9717e",
   "metadata": {},
   "outputs": [],
   "source": [
    "# separate the dataframe based on \"index_symbol\"\n",
    "df_list = [group for _, group in df.groupby(\"index_symbol\")]"
   ]
  },
  {
   "cell_type": "code",
   "execution_count": 11,
   "id": "fc902fd2",
   "metadata": {},
   "outputs": [
    {
     "name": "stdout",
     "output_type": "stream",
     "text": [
      "<class 'pandas.core.frame.DataFrame'>\n",
      "RangeIndex: 3060282 entries, 0 to 3060281\n",
      "Data columns (total 7 columns):\n",
      " #   Column        Dtype  \n",
      "---  ------        -----  \n",
      " 0   tickerdate    object \n",
      " 1   tickertime    object \n",
      " 2   index_symbol  object \n",
      " 3   open          float64\n",
      " 4   high          float64\n",
      " 5   low           float64\n",
      " 6   close         float64\n",
      "dtypes: float64(4), object(3)\n",
      "memory usage: 163.4+ MB\n"
     ]
    }
   ],
   "source": [
    "df.info()"
   ]
  },
  {
   "cell_type": "code",
   "execution_count": 12,
   "id": "2be4ca11",
   "metadata": {},
   "outputs": [
    {
     "data": {
      "text/html": [
       "<div>\n",
       "<style scoped>\n",
       "    .dataframe tbody tr th:only-of-type {\n",
       "        vertical-align: middle;\n",
       "    }\n",
       "\n",
       "    .dataframe tbody tr th {\n",
       "        vertical-align: top;\n",
       "    }\n",
       "\n",
       "    .dataframe thead th {\n",
       "        text-align: right;\n",
       "    }\n",
       "</style>\n",
       "<table border=\"1\" class=\"dataframe\">\n",
       "  <thead>\n",
       "    <tr style=\"text-align: right;\">\n",
       "      <th></th>\n",
       "      <th>open</th>\n",
       "      <th>high</th>\n",
       "      <th>low</th>\n",
       "      <th>close</th>\n",
       "    </tr>\n",
       "  </thead>\n",
       "  <tbody>\n",
       "    <tr>\n",
       "      <th>count</th>\n",
       "      <td>3.060282e+06</td>\n",
       "      <td>3.060282e+06</td>\n",
       "      <td>3.060282e+06</td>\n",
       "      <td>3.060282e+06</td>\n",
       "    </tr>\n",
       "    <tr>\n",
       "      <th>mean</th>\n",
       "      <td>3.923410e+03</td>\n",
       "      <td>3.924275e+03</td>\n",
       "      <td>3.922546e+03</td>\n",
       "      <td>3.923412e+03</td>\n",
       "    </tr>\n",
       "    <tr>\n",
       "      <th>std</th>\n",
       "      <td>3.402924e+03</td>\n",
       "      <td>3.403852e+03</td>\n",
       "      <td>3.401997e+03</td>\n",
       "      <td>3.402925e+03</td>\n",
       "    </tr>\n",
       "    <tr>\n",
       "      <th>min</th>\n",
       "      <td>6.669000e+02</td>\n",
       "      <td>6.670400e+02</td>\n",
       "      <td>6.667900e+02</td>\n",
       "      <td>6.667900e+02</td>\n",
       "    </tr>\n",
       "    <tr>\n",
       "      <th>25%</th>\n",
       "      <td>1.792490e+03</td>\n",
       "      <td>1.792780e+03</td>\n",
       "      <td>1.792180e+03</td>\n",
       "      <td>1.792480e+03</td>\n",
       "    </tr>\n",
       "    <tr>\n",
       "      <th>50%</th>\n",
       "      <td>2.675310e+03</td>\n",
       "      <td>2.675910e+03</td>\n",
       "      <td>2.674700e+03</td>\n",
       "      <td>2.675290e+03</td>\n",
       "    </tr>\n",
       "    <tr>\n",
       "      <th>75%</th>\n",
       "      <td>4.452130e+03</td>\n",
       "      <td>4.452780e+03</td>\n",
       "      <td>4.451450e+03</td>\n",
       "      <td>4.452120e+03</td>\n",
       "    </tr>\n",
       "    <tr>\n",
       "      <th>max</th>\n",
       "      <td>1.675732e+04</td>\n",
       "      <td>1.676485e+04</td>\n",
       "      <td>1.675530e+04</td>\n",
       "      <td>1.675812e+04</td>\n",
       "    </tr>\n",
       "  </tbody>\n",
       "</table>\n",
       "</div>"
      ],
      "text/plain": [
       "               open          high           low         close\n",
       "count  3.060282e+06  3.060282e+06  3.060282e+06  3.060282e+06\n",
       "mean   3.923410e+03  3.924275e+03  3.922546e+03  3.923412e+03\n",
       "std    3.402924e+03  3.403852e+03  3.401997e+03  3.402925e+03\n",
       "min    6.669000e+02  6.670400e+02  6.667900e+02  6.667900e+02\n",
       "25%    1.792490e+03  1.792780e+03  1.792180e+03  1.792480e+03\n",
       "50%    2.675310e+03  2.675910e+03  2.674700e+03  2.675290e+03\n",
       "75%    4.452130e+03  4.452780e+03  4.451450e+03  4.452120e+03\n",
       "max    1.675732e+04  1.676485e+04  1.675530e+04  1.675812e+04"
      ]
     },
     "execution_count": 12,
     "metadata": {},
     "output_type": "execute_result"
    }
   ],
   "source": [
    "df.describe()"
   ]
  },
  {
   "cell_type": "markdown",
   "id": "d973a342",
   "metadata": {},
   "source": [
    "## Data cleaning"
   ]
  },
  {
   "cell_type": "code",
   "execution_count": 13,
   "id": "498c1100",
   "metadata": {},
   "outputs": [],
   "source": [
    "spx_df = df[df['index_symbol'] == 'SPX']\n",
    "ndx_df = df[df['index_symbol'] == 'NDX']"
   ]
  },
  {
   "cell_type": "code",
   "execution_count": 14,
   "id": "8af1bb60",
   "metadata": {},
   "outputs": [
    {
     "data": {
      "text/html": [
       "<div>\n",
       "<style scoped>\n",
       "    .dataframe tbody tr th:only-of-type {\n",
       "        vertical-align: middle;\n",
       "    }\n",
       "\n",
       "    .dataframe tbody tr th {\n",
       "        vertical-align: top;\n",
       "    }\n",
       "\n",
       "    .dataframe thead th {\n",
       "        text-align: right;\n",
       "    }\n",
       "</style>\n",
       "<table border=\"1\" class=\"dataframe\">\n",
       "  <thead>\n",
       "    <tr style=\"text-align: right;\">\n",
       "      <th></th>\n",
       "      <th>tickerdate</th>\n",
       "      <th>tickertime</th>\n",
       "      <th>index_symbol</th>\n",
       "      <th>open</th>\n",
       "      <th>high</th>\n",
       "      <th>low</th>\n",
       "      <th>close</th>\n",
       "    </tr>\n",
       "  </thead>\n",
       "  <tbody>\n",
       "    <tr>\n",
       "      <th>0</th>\n",
       "      <td>2007-10-26</td>\n",
       "      <td>11:59:00</td>\n",
       "      <td>SPX</td>\n",
       "      <td>1523.00</td>\n",
       "      <td>1523.00</td>\n",
       "      <td>1521.97</td>\n",
       "      <td>1521.97</td>\n",
       "    </tr>\n",
       "    <tr>\n",
       "      <th>1</th>\n",
       "      <td>2007-11-02</td>\n",
       "      <td>12:47:00</td>\n",
       "      <td>SPX</td>\n",
       "      <td>1508.00</td>\n",
       "      <td>1508.50</td>\n",
       "      <td>1508.00</td>\n",
       "      <td>1508.46</td>\n",
       "    </tr>\n",
       "    <tr>\n",
       "      <th>2</th>\n",
       "      <td>2007-11-21</td>\n",
       "      <td>15:37:00</td>\n",
       "      <td>SPX</td>\n",
       "      <td>1425.00</td>\n",
       "      <td>1425.00</td>\n",
       "      <td>1423.97</td>\n",
       "      <td>1424.25</td>\n",
       "    </tr>\n",
       "    <tr>\n",
       "      <th>3</th>\n",
       "      <td>2007-12-11</td>\n",
       "      <td>10:37:00</td>\n",
       "      <td>SPX</td>\n",
       "      <td>1515.16</td>\n",
       "      <td>1515.16</td>\n",
       "      <td>1515.00</td>\n",
       "      <td>1515.00</td>\n",
       "    </tr>\n",
       "    <tr>\n",
       "      <th>4</th>\n",
       "      <td>2008-02-20</td>\n",
       "      <td>15:49:00</td>\n",
       "      <td>SPX</td>\n",
       "      <td>1357.00</td>\n",
       "      <td>1357.00</td>\n",
       "      <td>1356.31</td>\n",
       "      <td>1356.61</td>\n",
       "    </tr>\n",
       "  </tbody>\n",
       "</table>\n",
       "</div>"
      ],
      "text/plain": [
       "   tickerdate tickertime index_symbol     open     high      low    close\n",
       "0  2007-10-26   11:59:00          SPX  1523.00  1523.00  1521.97  1521.97\n",
       "1  2007-11-02   12:47:00          SPX  1508.00  1508.50  1508.00  1508.46\n",
       "2  2007-11-21   15:37:00          SPX  1425.00  1425.00  1423.97  1424.25\n",
       "3  2007-12-11   10:37:00          SPX  1515.16  1515.16  1515.00  1515.00\n",
       "4  2008-02-20   15:49:00          SPX  1357.00  1357.00  1356.31  1356.61"
      ]
     },
     "execution_count": 14,
     "metadata": {},
     "output_type": "execute_result"
    }
   ],
   "source": [
    "spx_df.head()"
   ]
  },
  {
   "cell_type": "code",
   "execution_count": 15,
   "id": "878ad654",
   "metadata": {},
   "outputs": [
    {
     "name": "stdout",
     "output_type": "stream",
     "text": [
      "<class 'pandas.core.frame.DataFrame'>\n",
      "Index: 1537664 entries, 0 to 1537663\n",
      "Data columns (total 7 columns):\n",
      " #   Column        Non-Null Count    Dtype  \n",
      "---  ------        --------------    -----  \n",
      " 0   tickerdate    1537664 non-null  object \n",
      " 1   tickertime    1537664 non-null  object \n",
      " 2   index_symbol  1537664 non-null  object \n",
      " 3   open          1537664 non-null  float64\n",
      " 4   high          1537664 non-null  float64\n",
      " 5   low           1537664 non-null  float64\n",
      " 6   close         1537664 non-null  float64\n",
      "dtypes: float64(4), object(3)\n",
      "memory usage: 93.9+ MB\n"
     ]
    }
   ],
   "source": [
    "spx_df.info()"
   ]
  },
  {
   "cell_type": "code",
   "execution_count": 16,
   "id": "b517b2d7",
   "metadata": {},
   "outputs": [
    {
     "data": {
      "text/html": [
       "<div>\n",
       "<style scoped>\n",
       "    .dataframe tbody tr th:only-of-type {\n",
       "        vertical-align: middle;\n",
       "    }\n",
       "\n",
       "    .dataframe tbody tr th {\n",
       "        vertical-align: top;\n",
       "    }\n",
       "\n",
       "    .dataframe thead th {\n",
       "        text-align: right;\n",
       "    }\n",
       "</style>\n",
       "<table border=\"1\" class=\"dataframe\">\n",
       "  <thead>\n",
       "    <tr style=\"text-align: right;\">\n",
       "      <th></th>\n",
       "      <th>open</th>\n",
       "      <th>high</th>\n",
       "      <th>low</th>\n",
       "      <th>close</th>\n",
       "    </tr>\n",
       "  </thead>\n",
       "  <tbody>\n",
       "    <tr>\n",
       "      <th>count</th>\n",
       "      <td>1.537664e+06</td>\n",
       "      <td>1.537664e+06</td>\n",
       "      <td>1.537664e+06</td>\n",
       "      <td>1.537664e+06</td>\n",
       "    </tr>\n",
       "    <tr>\n",
       "      <th>mean</th>\n",
       "      <td>2.239674e+03</td>\n",
       "      <td>2.240077e+03</td>\n",
       "      <td>2.239270e+03</td>\n",
       "      <td>2.239674e+03</td>\n",
       "    </tr>\n",
       "    <tr>\n",
       "      <th>std</th>\n",
       "      <td>1.038059e+03</td>\n",
       "      <td>1.038293e+03</td>\n",
       "      <td>1.037823e+03</td>\n",
       "      <td>1.038059e+03</td>\n",
       "    </tr>\n",
       "    <tr>\n",
       "      <th>min</th>\n",
       "      <td>6.669000e+02</td>\n",
       "      <td>6.670400e+02</td>\n",
       "      <td>6.667900e+02</td>\n",
       "      <td>6.667900e+02</td>\n",
       "    </tr>\n",
       "    <tr>\n",
       "      <th>25%</th>\n",
       "      <td>1.343180e+03</td>\n",
       "      <td>1.343370e+03</td>\n",
       "      <td>1.343000e+03</td>\n",
       "      <td>1.343180e+03</td>\n",
       "    </tr>\n",
       "    <tr>\n",
       "      <th>50%</th>\n",
       "      <td>2.051210e+03</td>\n",
       "      <td>2.051460e+03</td>\n",
       "      <td>2.050920e+03</td>\n",
       "      <td>2.051190e+03</td>\n",
       "    </tr>\n",
       "    <tr>\n",
       "      <th>75%</th>\n",
       "      <td>2.866733e+03</td>\n",
       "      <td>2.867240e+03</td>\n",
       "      <td>2.866270e+03</td>\n",
       "      <td>2.866753e+03</td>\n",
       "    </tr>\n",
       "    <tr>\n",
       "      <th>max</th>\n",
       "      <td>4.817770e+03</td>\n",
       "      <td>4.818620e+03</td>\n",
       "      <td>4.816450e+03</td>\n",
       "      <td>4.817670e+03</td>\n",
       "    </tr>\n",
       "  </tbody>\n",
       "</table>\n",
       "</div>"
      ],
      "text/plain": [
       "               open          high           low         close\n",
       "count  1.537664e+06  1.537664e+06  1.537664e+06  1.537664e+06\n",
       "mean   2.239674e+03  2.240077e+03  2.239270e+03  2.239674e+03\n",
       "std    1.038059e+03  1.038293e+03  1.037823e+03  1.038059e+03\n",
       "min    6.669000e+02  6.670400e+02  6.667900e+02  6.667900e+02\n",
       "25%    1.343180e+03  1.343370e+03  1.343000e+03  1.343180e+03\n",
       "50%    2.051210e+03  2.051460e+03  2.050920e+03  2.051190e+03\n",
       "75%    2.866733e+03  2.867240e+03  2.866270e+03  2.866753e+03\n",
       "max    4.817770e+03  4.818620e+03  4.816450e+03  4.817670e+03"
      ]
     },
     "execution_count": 16,
     "metadata": {},
     "output_type": "execute_result"
    }
   ],
   "source": [
    "spx_df.describe()"
   ]
  },
  {
   "cell_type": "code",
   "execution_count": 17,
   "id": "b8dc6b29",
   "metadata": {},
   "outputs": [
    {
     "data": {
      "text/html": [
       "<div>\n",
       "<style scoped>\n",
       "    .dataframe tbody tr th:only-of-type {\n",
       "        vertical-align: middle;\n",
       "    }\n",
       "\n",
       "    .dataframe tbody tr th {\n",
       "        vertical-align: top;\n",
       "    }\n",
       "\n",
       "    .dataframe thead th {\n",
       "        text-align: right;\n",
       "    }\n",
       "</style>\n",
       "<table border=\"1\" class=\"dataframe\">\n",
       "  <thead>\n",
       "    <tr style=\"text-align: right;\">\n",
       "      <th></th>\n",
       "      <th>tickerdate</th>\n",
       "      <th>tickertime</th>\n",
       "      <th>index_symbol</th>\n",
       "      <th>open</th>\n",
       "      <th>high</th>\n",
       "      <th>low</th>\n",
       "      <th>close</th>\n",
       "    </tr>\n",
       "  </thead>\n",
       "  <tbody>\n",
       "    <tr>\n",
       "      <th>1537664</th>\n",
       "      <td>2007-10-12</td>\n",
       "      <td>15:32:00</td>\n",
       "      <td>NDX</td>\n",
       "      <td>2168.00</td>\n",
       "      <td>2168.00</td>\n",
       "      <td>2166.65</td>\n",
       "      <td>2166.65</td>\n",
       "    </tr>\n",
       "    <tr>\n",
       "      <th>1537665</th>\n",
       "      <td>2007-12-24</td>\n",
       "      <td>09:58:00</td>\n",
       "      <td>NDX</td>\n",
       "      <td>2122.00</td>\n",
       "      <td>2122.56</td>\n",
       "      <td>2122.00</td>\n",
       "      <td>2122.56</td>\n",
       "    </tr>\n",
       "    <tr>\n",
       "      <th>1537666</th>\n",
       "      <td>2007-12-27</td>\n",
       "      <td>14:43:00</td>\n",
       "      <td>NDX</td>\n",
       "      <td>2118.00</td>\n",
       "      <td>2118.00</td>\n",
       "      <td>2117.31</td>\n",
       "      <td>2117.31</td>\n",
       "    </tr>\n",
       "    <tr>\n",
       "      <th>1537667</th>\n",
       "      <td>2008-01-02</td>\n",
       "      <td>14:45:00</td>\n",
       "      <td>NDX</td>\n",
       "      <td>2050.74</td>\n",
       "      <td>2052.00</td>\n",
       "      <td>2050.74</td>\n",
       "      <td>2052.00</td>\n",
       "    </tr>\n",
       "    <tr>\n",
       "      <th>1537668</th>\n",
       "      <td>2008-01-16</td>\n",
       "      <td>11:52:00</td>\n",
       "      <td>NDX</td>\n",
       "      <td>1874.00</td>\n",
       "      <td>1876.13</td>\n",
       "      <td>1874.00</td>\n",
       "      <td>1875.76</td>\n",
       "    </tr>\n",
       "  </tbody>\n",
       "</table>\n",
       "</div>"
      ],
      "text/plain": [
       "         tickerdate tickertime index_symbol     open     high      low  \\\n",
       "1537664  2007-10-12   15:32:00          NDX  2168.00  2168.00  2166.65   \n",
       "1537665  2007-12-24   09:58:00          NDX  2122.00  2122.56  2122.00   \n",
       "1537666  2007-12-27   14:43:00          NDX  2118.00  2118.00  2117.31   \n",
       "1537667  2008-01-02   14:45:00          NDX  2050.74  2052.00  2050.74   \n",
       "1537668  2008-01-16   11:52:00          NDX  1874.00  1876.13  1874.00   \n",
       "\n",
       "           close  \n",
       "1537664  2166.65  \n",
       "1537665  2122.56  \n",
       "1537666  2117.31  \n",
       "1537667  2052.00  \n",
       "1537668  1875.76  "
      ]
     },
     "execution_count": 17,
     "metadata": {},
     "output_type": "execute_result"
    }
   ],
   "source": [
    "ndx_df.head()"
   ]
  },
  {
   "cell_type": "code",
   "execution_count": 18,
   "id": "ab654859",
   "metadata": {},
   "outputs": [
    {
     "name": "stdout",
     "output_type": "stream",
     "text": [
      "<class 'pandas.core.frame.DataFrame'>\n",
      "Index: 1522618 entries, 1537664 to 3060281\n",
      "Data columns (total 7 columns):\n",
      " #   Column        Non-Null Count    Dtype  \n",
      "---  ------        --------------    -----  \n",
      " 0   tickerdate    1522618 non-null  object \n",
      " 1   tickertime    1522618 non-null  object \n",
      " 2   index_symbol  1522618 non-null  object \n",
      " 3   open          1522618 non-null  float64\n",
      " 4   high          1522618 non-null  float64\n",
      " 5   low           1522618 non-null  float64\n",
      " 6   close         1522618 non-null  float64\n",
      "dtypes: float64(4), object(3)\n",
      "memory usage: 92.9+ MB\n"
     ]
    }
   ],
   "source": [
    "ndx_df.info()"
   ]
  },
  {
   "cell_type": "code",
   "execution_count": 19,
   "id": "b7472d59",
   "metadata": {},
   "outputs": [
    {
     "data": {
      "text/html": [
       "<div>\n",
       "<style scoped>\n",
       "    .dataframe tbody tr th:only-of-type {\n",
       "        vertical-align: middle;\n",
       "    }\n",
       "\n",
       "    .dataframe tbody tr th {\n",
       "        vertical-align: top;\n",
       "    }\n",
       "\n",
       "    .dataframe thead th {\n",
       "        text-align: right;\n",
       "    }\n",
       "</style>\n",
       "<table border=\"1\" class=\"dataframe\">\n",
       "  <thead>\n",
       "    <tr style=\"text-align: right;\">\n",
       "      <th></th>\n",
       "      <th>open</th>\n",
       "      <th>high</th>\n",
       "      <th>low</th>\n",
       "      <th>close</th>\n",
       "    </tr>\n",
       "  </thead>\n",
       "  <tbody>\n",
       "    <tr>\n",
       "      <th>count</th>\n",
       "      <td>1.522618e+06</td>\n",
       "      <td>1.522618e+06</td>\n",
       "      <td>1.522618e+06</td>\n",
       "      <td>1.522618e+06</td>\n",
       "    </tr>\n",
       "    <tr>\n",
       "      <th>mean</th>\n",
       "      <td>5.623784e+03</td>\n",
       "      <td>5.625115e+03</td>\n",
       "      <td>5.622455e+03</td>\n",
       "      <td>5.623787e+03</td>\n",
       "    </tr>\n",
       "    <tr>\n",
       "      <th>std</th>\n",
       "      <td>4.053609e+03</td>\n",
       "      <td>4.054725e+03</td>\n",
       "      <td>4.052494e+03</td>\n",
       "      <td>4.053610e+03</td>\n",
       "    </tr>\n",
       "    <tr>\n",
       "      <th>min</th>\n",
       "      <td>1.018950e+03</td>\n",
       "      <td>1.020050e+03</td>\n",
       "      <td>1.018860e+03</td>\n",
       "      <td>1.020050e+03</td>\n",
       "    </tr>\n",
       "    <tr>\n",
       "      <th>25%</th>\n",
       "      <td>2.321520e+03</td>\n",
       "      <td>2.321960e+03</td>\n",
       "      <td>2.321040e+03</td>\n",
       "      <td>2.321513e+03</td>\n",
       "    </tr>\n",
       "    <tr>\n",
       "      <th>50%</th>\n",
       "      <td>4.341330e+03</td>\n",
       "      <td>4.342210e+03</td>\n",
       "      <td>4.340460e+03</td>\n",
       "      <td>4.341320e+03</td>\n",
       "    </tr>\n",
       "    <tr>\n",
       "      <th>75%</th>\n",
       "      <td>7.547880e+03</td>\n",
       "      <td>7.549608e+03</td>\n",
       "      <td>7.546020e+03</td>\n",
       "      <td>7.547870e+03</td>\n",
       "    </tr>\n",
       "    <tr>\n",
       "      <th>max</th>\n",
       "      <td>1.675732e+04</td>\n",
       "      <td>1.676485e+04</td>\n",
       "      <td>1.675530e+04</td>\n",
       "      <td>1.675812e+04</td>\n",
       "    </tr>\n",
       "  </tbody>\n",
       "</table>\n",
       "</div>"
      ],
      "text/plain": [
       "               open          high           low         close\n",
       "count  1.522618e+06  1.522618e+06  1.522618e+06  1.522618e+06\n",
       "mean   5.623784e+03  5.625115e+03  5.622455e+03  5.623787e+03\n",
       "std    4.053609e+03  4.054725e+03  4.052494e+03  4.053610e+03\n",
       "min    1.018950e+03  1.020050e+03  1.018860e+03  1.020050e+03\n",
       "25%    2.321520e+03  2.321960e+03  2.321040e+03  2.321513e+03\n",
       "50%    4.341330e+03  4.342210e+03  4.340460e+03  4.341320e+03\n",
       "75%    7.547880e+03  7.549608e+03  7.546020e+03  7.547870e+03\n",
       "max    1.675732e+04  1.676485e+04  1.675530e+04  1.675812e+04"
      ]
     },
     "execution_count": 19,
     "metadata": {},
     "output_type": "execute_result"
    }
   ],
   "source": [
    "ndx_df.describe()"
   ]
  },
  {
   "cell_type": "markdown",
   "id": "a892be7e",
   "metadata": {},
   "source": [
    "# histogram of open, high, low, close - SPX"
   ]
  },
  {
   "cell_type": "code",
   "execution_count": 20,
   "id": "56c3e54c",
   "metadata": {},
   "outputs": [
    {
     "data": {
      "image/png": "[encoded data removed]"
     },
     "metadata": {
      "image/png": {
       "height": 480,
       "width": 640
      }
     },
     "output_type": "display_data"
    }
   ],
   "source": [
    "ggplot(spx_df, aes(x='open')) + geom_histogram(bins=30, fill='blue', alpha=0.7) + labs(title='Histogram of Open Prices', x='Open Price', y='Frequency')"
   ]
  },
  {
   "cell_type": "code",
   "execution_count": 21,
   "id": "2dd3d9e8",
   "metadata": {},
   "outputs": [
    {
     "data": {
      "image/png": "[encoded data removed]"
     },
     "metadata": {
      "image/png": {
       "height": 480,
       "width": 640
      }
     },
     "output_type": "display_data"
    }
   ],
   "source": [
    "ggplot(spx_df, aes(x='high')) + geom_histogram(bins=30, fill='green', alpha=0.7) + labs(title='Histogram of High Prices', x='High Price', y='Frequency')"
   ]
  },
  {
   "cell_type": "code",
   "execution_count": 22,
   "id": "97709382",
   "metadata": {},
   "outputs": [
    {
     "data": {
      "image/png": "[encoded data removed]"
     },
     "metadata": {
      "image/png": {
       "height": 480,
       "width": 640
      }
     },
     "output_type": "display_data"
    }
   ],
   "source": [
    "ggplot(spx_df, aes(x='low')) + geom_histogram(bins=30, fill='red', alpha=0.7) + labs(title='Histogram of Low Prices', x='Low Price', y='Frequency')"
   ]
  },
  {
   "cell_type": "code",
   "execution_count": 23,
   "id": "26fcf20c",
   "metadata": {},
   "outputs": [
    {
     "data": {
      "image/png": "[encoded data removed]"
     },
     "metadata": {
      "image/png": {
       "height": 480,
       "width": 640
      }
     },
     "output_type": "display_data"
    }
   ],
   "source": [
    "ggplot(spx_df, aes(x='close')) + geom_histogram(bins=30, fill='purple', alpha=0.7) + labs(title='Histogram of Close Prices', x='Close Price', y='Frequency')"
   ]
  },
  {
   "cell_type": "markdown",
   "id": "b50716f5",
   "metadata": {},
   "source": [
    "# histogram of open, high, low, close - NDX"
   ]
  },
  {
   "cell_type": "code",
   "execution_count": 24,
   "id": "ebbd9f75",
   "metadata": {},
   "outputs": [
    {
     "data": {
      "image/png": "[encoded data removed]"
     },
     "metadata": {
      "image/png": {
       "height": 480,
       "width": 640
      }
     },
     "output_type": "display_data"
    }
   ],
   "source": [
    "ggplot(ndx_df, aes(x='open')) + geom_histogram(bins=30, fill='blue', alpha=0.7) + labs(title='Histogram of Open Prices', x='Open Price', y='Frequency')"
   ]
  },
  {
   "cell_type": "code",
   "execution_count": 25,
   "id": "167ff662",
   "metadata": {},
   "outputs": [
    {
     "data": {
      "image/png": "[encoded data removed]"
     },
     "metadata": {
      "image/png": {
       "height": 480,
       "width": 640
      }
     },
     "output_type": "display_data"
    }
   ],
   "source": [
    "ggplot(ndx_df, aes(x='close')) + geom_histogram(bins=30, fill='green', alpha=0.7) + labs(title='Histogram of Close Prices', x='Close Price', y='Frequency')"
   ]
  },
  {
   "cell_type": "code",
   "execution_count": 26,
   "id": "1601e446",
   "metadata": {},
   "outputs": [
    {
     "data": {
      "image/png": "[encoded data removed]"
     },
     "metadata": {
      "image/png": {
       "height": 480,
       "width": 640
      }
     },
     "output_type": "display_data"
    }
   ],
   "source": [
    "ggplot(ndx_df, aes(x='high')) + geom_histogram(bins=30, fill='red', alpha=0.7) + labs(title='Histogram of High Prices', x='High Price', y='Frequency')"
   ]
  },
  {
   "cell_type": "code",
   "execution_count": 27,
   "id": "325482be",
   "metadata": {},
   "outputs": [
    {
     "data": {
      "image/png": "[encoded data removed]"
     },
     "metadata": {
      "image/png": {
       "height": 480,
       "width": 640
      }
     },
     "output_type": "display_data"
    }
   ],
   "source": [
    "ggplot(ndx_df, aes(x='high')) + geom_histogram(bins=30, fill='purple', alpha=0.7) + labs(title='Histogram of High Prices', x='High Price', y='Frequency')"
   ]
  },
  {
   "cell_type": "code",
   "execution_count": 28,
   "id": "d2064133",
   "metadata": {},
   "outputs": [],
   "source": [
    "spx = spx_df.copy()"
   ]
  },
  {
   "cell_type": "code",
   "execution_count": 29,
   "id": "256cd1e9",
   "metadata": {},
   "outputs": [],
   "source": [
    "spx[\"datetime\"] = pd.to_datetime(spx[\"tickerdate\"] + \" \" + spx[\"tickertime\"])\n",
    "spx = spx.sort_values(\"datetime\")"
   ]
  },
  {
   "cell_type": "code",
   "execution_count": 30,
   "id": "d67818ab",
   "metadata": {},
   "outputs": [],
   "source": [
    "spx = spx.set_index(\"datetime\")[[\"open\",\"high\",\"low\",\"close\"]]"
   ]
  },
  {
   "cell_type": "code",
   "execution_count": 31,
   "id": "4e352c4a",
   "metadata": {},
   "outputs": [],
   "source": [
    "SESSION_START = \"09:30\"\n",
    "SESSION_END   = \"16:00\"\n",
    "\n",
    "is_weekday = spx.index.weekday < 5\n",
    "hhmm = spx.index.strftime(\"%H:%M\")\n",
    "in_session = (hhmm >= SESSION_START) & (hhmm <= SESSION_END)\n",
    "\n",
    "spx = spx.loc[is_weekday & in_session].copy()"
   ]
  },
  {
   "cell_type": "code",
   "execution_count": 32,
   "id": "4e9af2d1",
   "metadata": {},
   "outputs": [],
   "source": [
    "spx = spx.dropna().sort_index()"
   ]
  },
  {
   "cell_type": "code",
   "execution_count": 33,
   "id": "2b11642e",
   "metadata": {},
   "outputs": [
    {
     "data": {
      "text/html": [
       "<div>\n",
       "<style scoped>\n",
       "    .dataframe tbody tr th:only-of-type {\n",
       "        vertical-align: middle;\n",
       "    }\n",
       "\n",
       "    .dataframe tbody tr th {\n",
       "        vertical-align: top;\n",
       "    }\n",
       "\n",
       "    .dataframe thead th {\n",
       "        text-align: right;\n",
       "    }\n",
       "</style>\n",
       "<table border=\"1\" class=\"dataframe\">\n",
       "  <thead>\n",
       "    <tr style=\"text-align: right;\">\n",
       "      <th></th>\n",
       "      <th>open</th>\n",
       "      <th>high</th>\n",
       "      <th>low</th>\n",
       "      <th>close</th>\n",
       "    </tr>\n",
       "    <tr>\n",
       "      <th>datetime</th>\n",
       "      <th></th>\n",
       "      <th></th>\n",
       "      <th></th>\n",
       "      <th></th>\n",
       "    </tr>\n",
       "  </thead>\n",
       "  <tbody>\n",
       "    <tr>\n",
       "      <th>2007-10-09 09:30:00</th>\n",
       "      <td>1553.18</td>\n",
       "      <td>1555.53</td>\n",
       "      <td>1553.18</td>\n",
       "      <td>1555.53</td>\n",
       "    </tr>\n",
       "    <tr>\n",
       "      <th>2007-10-09 09:31:00</th>\n",
       "      <td>1555.67</td>\n",
       "      <td>1556.19</td>\n",
       "      <td>1555.67</td>\n",
       "      <td>1556.04</td>\n",
       "    </tr>\n",
       "    <tr>\n",
       "      <th>2007-10-09 09:32:00</th>\n",
       "      <td>1555.80</td>\n",
       "      <td>1556.24</td>\n",
       "      <td>1555.80</td>\n",
       "      <td>1556.24</td>\n",
       "    </tr>\n",
       "    <tr>\n",
       "      <th>2007-10-09 09:33:00</th>\n",
       "      <td>1556.55</td>\n",
       "      <td>1556.55</td>\n",
       "      <td>1556.21</td>\n",
       "      <td>1556.21</td>\n",
       "    </tr>\n",
       "    <tr>\n",
       "      <th>2007-10-09 09:34:00</th>\n",
       "      <td>1555.78</td>\n",
       "      <td>1556.13</td>\n",
       "      <td>1555.58</td>\n",
       "      <td>1556.13</td>\n",
       "    </tr>\n",
       "  </tbody>\n",
       "</table>\n",
       "</div>"
      ],
      "text/plain": [
       "                        open     high      low    close\n",
       "datetime                                               \n",
       "2007-10-09 09:30:00  1553.18  1555.53  1553.18  1555.53\n",
       "2007-10-09 09:31:00  1555.67  1556.19  1555.67  1556.04\n",
       "2007-10-09 09:32:00  1555.80  1556.24  1555.80  1556.24\n",
       "2007-10-09 09:33:00  1556.55  1556.55  1556.21  1556.21\n",
       "2007-10-09 09:34:00  1555.78  1556.13  1555.58  1556.13"
      ]
     },
     "execution_count": 33,
     "metadata": {},
     "output_type": "execute_result"
    }
   ],
   "source": [
    "spx.head()"
   ]
  },
  {
   "cell_type": "code",
   "execution_count": 34,
   "id": "6b8ca585",
   "metadata": {},
   "outputs": [
    {
     "name": "stdout",
     "output_type": "stream",
     "text": [
      "Date range: 2021-03-24 16:00:00 → 2023-03-24 16:00:00\n",
      "Rows after 5y filter: 196705\n"
     ]
    }
   ],
   "source": [
    "# filter only the last 5 years\n",
    "end_dt = spx.index.max()\n",
    "cutoff = end_dt - pd.DateOffset(years=2)\n",
    "spx = spx.loc[spx.index >= cutoff].copy()\n",
    "\n",
    "print(\"Date range:\", spx.index.min(), \"→\", spx.index.max())\n",
    "print(\"Rows after 5y filter:\", len(spx))"
   ]
  },
  {
   "cell_type": "markdown",
   "id": "99cb4ecc",
   "metadata": {},
   "source": [
    "## Log Returns"
   ]
  },
  {
   "cell_type": "code",
   "execution_count": 35,
   "id": "a5564766",
   "metadata": {},
   "outputs": [],
   "source": [
    "spx[\"log_return\"] = np.log(spx[\"close\"] / spx[\"close\"].shift(1))"
   ]
  },
  {
   "cell_type": "code",
   "execution_count": 36,
   "id": "20879483",
   "metadata": {},
   "outputs": [],
   "source": [
    "# time features (cyclic encodings, as used in Informer/FEDformer-style setups)\n",
    "spx[\"month\"]   = spx.index.month\n",
    "spx[\"weekday\"] = spx.index.weekday\n",
    "spx[\"hour\"]    = spx.index.hour\n",
    "spx[\"minute\"]  = spx.index.minute"
   ]
  },
  {
   "cell_type": "code",
   "execution_count": 37,
   "id": "63b6d0c6",
   "metadata": {},
   "outputs": [],
   "source": [
    "spx[\"month_sin\"]   = np.sin(2*np.pi*spx[\"month\"]/12)\n",
    "spx[\"month_cos\"]   = np.cos(2*np.pi*spx[\"month\"]/12)\n",
    "spx[\"weekday_sin\"] = np.sin(2*np.pi*spx[\"weekday\"]/7)\n",
    "spx[\"weekday_cos\"] = np.cos(2*np.pi*spx[\"weekday\"]/7)\n",
    "spx[\"hour_sin\"]    = np.sin(2*np.pi*spx[\"hour\"]/24)\n",
    "spx[\"hour_cos\"]    = np.cos(2*np.pi*spx[\"hour\"]/24)\n",
    "spx[\"minute_sin\"]  = np.sin(2*np.pi*spx[\"minute\"]/60)\n",
    "spx[\"minute_cos\"]  = np.cos(2*np.pi*spx[\"minute\"]/60)"
   ]
  },
  {
   "cell_type": "code",
   "execution_count": 38,
   "id": "f935c90e",
   "metadata": {},
   "outputs": [],
   "source": [
    "#drop the first NaN from log_return\n",
    "spx = spx.dropna(subset=[\"log_return\"]).copy()"
   ]
  },
  {
   "cell_type": "markdown",
   "id": "ad9db2e7",
   "metadata": {},
   "source": [
    "### Features to be considered for the training"
   ]
  },
  {
   "cell_type": "code",
   "execution_count": 39,
   "id": "6418bce1",
   "metadata": {},
   "outputs": [],
   "source": [
    "TIME_FEATS = [\n",
    "    \"month_sin\",\"month_cos\",\n",
    "    \"weekday_sin\",\"weekday_cos\",\n",
    "    \"hour_sin\",\"hour_cos\",\n",
    "    \"minute_sin\",\"minute_cos\"\n",
    "]"
   ]
  },
  {
   "cell_type": "code",
   "execution_count": 40,
   "id": "d9b89cb6",
   "metadata": {},
   "outputs": [],
   "source": [
    "# model will see past log_return + these time features\n",
    "MODEL_FEATS = [\"log_return\"] + TIME_FEATS"
   ]
  },
  {
   "cell_type": "code",
   "execution_count": 41,
   "id": "d75c0f73",
   "metadata": {},
   "outputs": [
    {
     "data": {
      "text/html": [
       "<div>\n",
       "<style scoped>\n",
       "    .dataframe tbody tr th:only-of-type {\n",
       "        vertical-align: middle;\n",
       "    }\n",
       "\n",
       "    .dataframe tbody tr th {\n",
       "        vertical-align: top;\n",
       "    }\n",
       "\n",
       "    .dataframe thead th {\n",
       "        text-align: right;\n",
       "    }\n",
       "</style>\n",
       "<table border=\"1\" class=\"dataframe\">\n",
       "  <thead>\n",
       "    <tr style=\"text-align: right;\">\n",
       "      <th></th>\n",
       "      <th>open</th>\n",
       "      <th>high</th>\n",
       "      <th>low</th>\n",
       "      <th>close</th>\n",
       "      <th>log_return</th>\n",
       "      <th>month</th>\n",
       "      <th>weekday</th>\n",
       "      <th>hour</th>\n",
       "      <th>minute</th>\n",
       "      <th>month_sin</th>\n",
       "      <th>month_cos</th>\n",
       "      <th>weekday_sin</th>\n",
       "      <th>weekday_cos</th>\n",
       "      <th>hour_sin</th>\n",
       "      <th>hour_cos</th>\n",
       "      <th>minute_sin</th>\n",
       "      <th>minute_cos</th>\n",
       "    </tr>\n",
       "    <tr>\n",
       "      <th>datetime</th>\n",
       "      <th></th>\n",
       "      <th></th>\n",
       "      <th></th>\n",
       "      <th></th>\n",
       "      <th></th>\n",
       "      <th></th>\n",
       "      <th></th>\n",
       "      <th></th>\n",
       "      <th></th>\n",
       "      <th></th>\n",
       "      <th></th>\n",
       "      <th></th>\n",
       "      <th></th>\n",
       "      <th></th>\n",
       "      <th></th>\n",
       "      <th></th>\n",
       "      <th></th>\n",
       "    </tr>\n",
       "  </thead>\n",
       "  <tbody>\n",
       "    <tr>\n",
       "      <th>2021-03-25 09:30:00</th>\n",
       "      <td>3879.34</td>\n",
       "      <td>3879.34</td>\n",
       "      <td>3869.62</td>\n",
       "      <td>3870.74</td>\n",
       "      <td>-0.004745</td>\n",
       "      <td>3</td>\n",
       "      <td>3</td>\n",
       "      <td>9</td>\n",
       "      <td>30</td>\n",
       "      <td>1.0</td>\n",
       "      <td>6.123234e-17</td>\n",
       "      <td>0.433884</td>\n",
       "      <td>-0.900969</td>\n",
       "      <td>0.707107</td>\n",
       "      <td>-0.707107</td>\n",
       "      <td>5.665539e-16</td>\n",
       "      <td>-1.000000</td>\n",
       "    </tr>\n",
       "    <tr>\n",
       "      <th>2021-03-25 09:31:00</th>\n",
       "      <td>3870.66</td>\n",
       "      <td>3873.99</td>\n",
       "      <td>3870.56</td>\n",
       "      <td>3873.99</td>\n",
       "      <td>0.000839</td>\n",
       "      <td>3</td>\n",
       "      <td>3</td>\n",
       "      <td>9</td>\n",
       "      <td>31</td>\n",
       "      <td>1.0</td>\n",
       "      <td>6.123234e-17</td>\n",
       "      <td>0.433884</td>\n",
       "      <td>-0.900969</td>\n",
       "      <td>0.707107</td>\n",
       "      <td>-0.707107</td>\n",
       "      <td>-1.045285e-01</td>\n",
       "      <td>-0.994522</td>\n",
       "    </tr>\n",
       "    <tr>\n",
       "      <th>2021-03-25 09:32:00</th>\n",
       "      <td>3874.16</td>\n",
       "      <td>3875.84</td>\n",
       "      <td>3873.49</td>\n",
       "      <td>3874.46</td>\n",
       "      <td>0.000121</td>\n",
       "      <td>3</td>\n",
       "      <td>3</td>\n",
       "      <td>9</td>\n",
       "      <td>32</td>\n",
       "      <td>1.0</td>\n",
       "      <td>6.123234e-17</td>\n",
       "      <td>0.433884</td>\n",
       "      <td>-0.900969</td>\n",
       "      <td>0.707107</td>\n",
       "      <td>-0.707107</td>\n",
       "      <td>-2.079117e-01</td>\n",
       "      <td>-0.978148</td>\n",
       "    </tr>\n",
       "    <tr>\n",
       "      <th>2021-03-25 09:33:00</th>\n",
       "      <td>3874.15</td>\n",
       "      <td>3875.98</td>\n",
       "      <td>3873.06</td>\n",
       "      <td>3873.29</td>\n",
       "      <td>-0.000302</td>\n",
       "      <td>3</td>\n",
       "      <td>3</td>\n",
       "      <td>9</td>\n",
       "      <td>33</td>\n",
       "      <td>1.0</td>\n",
       "      <td>6.123234e-17</td>\n",
       "      <td>0.433884</td>\n",
       "      <td>-0.900969</td>\n",
       "      <td>0.707107</td>\n",
       "      <td>-0.707107</td>\n",
       "      <td>-3.090170e-01</td>\n",
       "      <td>-0.951057</td>\n",
       "    </tr>\n",
       "    <tr>\n",
       "      <th>2021-03-25 09:34:00</th>\n",
       "      <td>3873.23</td>\n",
       "      <td>3873.97</td>\n",
       "      <td>3870.19</td>\n",
       "      <td>3870.30</td>\n",
       "      <td>-0.000772</td>\n",
       "      <td>3</td>\n",
       "      <td>3</td>\n",
       "      <td>9</td>\n",
       "      <td>34</td>\n",
       "      <td>1.0</td>\n",
       "      <td>6.123234e-17</td>\n",
       "      <td>0.433884</td>\n",
       "      <td>-0.900969</td>\n",
       "      <td>0.707107</td>\n",
       "      <td>-0.707107</td>\n",
       "      <td>-4.067366e-01</td>\n",
       "      <td>-0.913545</td>\n",
       "    </tr>\n",
       "  </tbody>\n",
       "</table>\n",
       "</div>"
      ],
      "text/plain": [
       "                        open     high      low    close  log_return  month  \\\n",
       "datetime                                                                     \n",
       "2021-03-25 09:30:00  3879.34  3879.34  3869.62  3870.74   -0.004745      3   \n",
       "2021-03-25 09:31:00  3870.66  3873.99  3870.56  3873.99    0.000839      3   \n",
       "2021-03-25 09:32:00  3874.16  3875.84  3873.49  3874.46    0.000121      3   \n",
       "2021-03-25 09:33:00  3874.15  3875.98  3873.06  3873.29   -0.000302      3   \n",
       "2021-03-25 09:34:00  3873.23  3873.97  3870.19  3870.30   -0.000772      3   \n",
       "\n",
       "                     weekday  hour  minute  month_sin     month_cos  \\\n",
       "datetime                                                              \n",
       "2021-03-25 09:30:00        3     9      30        1.0  6.123234e-17   \n",
       "2021-03-25 09:31:00        3     9      31        1.0  6.123234e-17   \n",
       "2021-03-25 09:32:00        3     9      32        1.0  6.123234e-17   \n",
       "2021-03-25 09:33:00        3     9      33        1.0  6.123234e-17   \n",
       "2021-03-25 09:34:00        3     9      34        1.0  6.123234e-17   \n",
       "\n",
       "                     weekday_sin  weekday_cos  hour_sin  hour_cos  \\\n",
       "datetime                                                            \n",
       "2021-03-25 09:30:00     0.433884    -0.900969  0.707107 -0.707107   \n",
       "2021-03-25 09:31:00     0.433884    -0.900969  0.707107 -0.707107   \n",
       "2021-03-25 09:32:00     0.433884    -0.900969  0.707107 -0.707107   \n",
       "2021-03-25 09:33:00     0.433884    -0.900969  0.707107 -0.707107   \n",
       "2021-03-25 09:34:00     0.433884    -0.900969  0.707107 -0.707107   \n",
       "\n",
       "                       minute_sin  minute_cos  \n",
       "datetime                                       \n",
       "2021-03-25 09:30:00  5.665539e-16   -1.000000  \n",
       "2021-03-25 09:31:00 -1.045285e-01   -0.994522  \n",
       "2021-03-25 09:32:00 -2.079117e-01   -0.978148  \n",
       "2021-03-25 09:33:00 -3.090170e-01   -0.951057  \n",
       "2021-03-25 09:34:00 -4.067366e-01   -0.913545  "
      ]
     },
     "execution_count": 41,
     "metadata": {},
     "output_type": "execute_result"
    }
   ],
   "source": [
    "spx.head()"
   ]
  },
  {
   "cell_type": "code",
   "execution_count": 42,
   "id": "1193c704",
   "metadata": {},
   "outputs": [],
   "source": [
    "from sklearn.preprocessing import StandardScaler"
   ]
  },
  {
   "cell_type": "code",
   "execution_count": null,
   "id": "e3620d8c",
   "metadata": {},
   "outputs": [],
   "source": [
    "# sort te dataframe\n",
    "spx = spx.sort_index()"
   ]
  },
  {
   "cell_type": "code",
   "execution_count": null,
   "id": "909a8439",
   "metadata": {},
   "outputs": [],
   "source": [
    "# list unique trading days \n",
    "trading_days = np.array(sorted({ts.date() for ts in spx.index}))"
   ]
  },
  {
   "cell_type": "code",
   "execution_count": 45,
   "id": "ba8be07f",
   "metadata": {},
   "outputs": [],
   "source": [
    "# compute day-based boundaries\n",
    "D = len(trading_days)\n",
    "d_train_end = int(D * 0.70)\n",
    "d_val_end   = int(D * 0.80)"
   ]
  },
  {
   "cell_type": "code",
   "execution_count": null,
   "id": "9d4daf11",
   "metadata": {},
   "outputs": [],
   "source": [
    "# data split based on the day boundaries\n",
    "train_days = trading_days[:d_train_end]\n",
    "val_days   = trading_days[d_train_end:d_val_end]\n",
    "test_days  = trading_days[d_val_end:]"
   ]
  },
  {
   "cell_type": "code",
   "execution_count": null,
   "id": "4e7fe8e1",
   "metadata": {},
   "outputs": [],
   "source": [
    "# slice by full days (each split starts at that day’s first bar)\n",
    "spx_train = spx[np.isin(spx.index.date, train_days)].copy()\n",
    "spx_val   = spx[np.isin(spx.index.date, val_days)].copy()\n",
    "spx_test  = spx[np.isin(spx.index.date, test_days)].copy()"
   ]
  },
  {
   "cell_type": "code",
   "execution_count": 48,
   "id": "2ca1c047",
   "metadata": {},
   "outputs": [],
   "source": [
    "# scale ONLY log_return using TRAIN statistics\n",
    "scaler = StandardScaler().fit(spx_train[[\"log_return\"]])\n",
    "spx_train[\"log_return\"] = scaler.transform(spx_train[[\"log_return\"]])\n",
    "spx_val[\"log_return\"]   = scaler.transform(spx_val[[\"log_return\"]])\n",
    "spx_test[\"log_return\"]  = scaler.transform(spx_test[[\"log_return\"]])"
   ]
  },
  {
   "cell_type": "code",
   "execution_count": 49,
   "id": "ea3231bf",
   "metadata": {},
   "outputs": [],
   "source": [
    "X_train = spx_train[MODEL_FEATS].to_numpy(dtype=\"float32\")\n",
    "X_val   = spx_val  [MODEL_FEATS].to_numpy(dtype=\"float32\")\n",
    "X_test  = spx_test [MODEL_FEATS].to_numpy(dtype=\"float32\")\n"
   ]
  },
  {
   "cell_type": "code",
   "execution_count": 50,
   "id": "0a534e9c",
   "metadata": {},
   "outputs": [
    {
     "name": "stdout",
     "output_type": "stream",
     "text": [
      "Train start: 2021-03-25 09:30:00\n",
      "Val   start: 2022-08-17 09:30:00\n",
      "Test  start: 2022-10-28 09:30:00\n",
      "Shapes: (137433, 9) (19941, 9) (39330, 9)\n"
     ]
    }
   ],
   "source": [
    "# sanity check: first timestamps should be around 09:30 (or first available bar)\n",
    "print(\"Train start:\", spx_train.index.min())\n",
    "print(\"Val   start:\", spx_val.index.min())\n",
    "print(\"Test  start:\", spx_test.index.min())\n",
    "print(\"Shapes:\", X_train.shape, X_val.shape, X_test.shape)"
   ]
  },
  {
   "cell_type": "code",
   "execution_count": 51,
   "id": "d2d4a65f",
   "metadata": {},
   "outputs": [],
   "source": [
    "# Choosing the context window\n",
    "Tin  = 256\n",
    "Tout = 30\n",
    "\n",
    "def make_windows(arr: np.ndarray, Tin: int, Tout: int):\n",
    "    X_enc, X_dec, Y = [], [], []\n",
    "    T, D = arr.shape\n",
    "    last_start = T - (Tin + Tout)\n",
    "    if last_start <= 0:\n",
    "        raise ValueError(\"Not enough rows for the chosen Tin/Tout.\")\n",
    "\n",
    "    for i in range(last_start):\n",
    "        enc = arr[i:i+Tin]                 \n",
    "        tgt = arr[i+Tin:i+Tin+Tout]         \n",
    "        start = np.zeros((1, D), dtype=np.float32)\n",
    "        dec_in = np.vstack([start, tgt[:-1]])\n",
    "        X_enc.append(enc)\n",
    "        X_dec.append(dec_in)\n",
    "        Y.append(tgt)\n",
    "\n",
    "    return (np.array(X_enc, dtype=np.float32),\n",
    "            np.array(X_dec, dtype=np.float32),\n",
    "            np.array(Y,     dtype=np.float32))"
   ]
  },
  {
   "cell_type": "code",
   "execution_count": 52,
   "id": "cadae2c3",
   "metadata": {},
   "outputs": [
    {
     "name": "stdout",
     "output_type": "stream",
     "text": [
      "Train windows: (137147, 256, 9) (137147, 30, 9) (137147, 30, 9)\n",
      "Val   windows: (19655, 256, 9) (19655, 30, 9) (19655, 30, 9)\n",
      "Test  windows: (39044, 256, 9) (39044, 30, 9) (39044, 30, 9)\n"
     ]
    }
   ],
   "source": [
    "# build arrays from your 70:10:20 day-aligned splits\n",
    "X_train_np = spx_train[MODEL_FEATS].to_numpy(dtype=np.float32)\n",
    "X_val_np   = spx_val  [MODEL_FEATS].to_numpy(dtype=np.float32)\n",
    "X_test_np  = spx_test [MODEL_FEATS].to_numpy(dtype=np.float32)\n",
    "\n",
    "tr_enc, tr_dec, tr_tgt = make_windows(X_train_np, Tin, Tout)\n",
    "va_enc, va_dec, va_tgt = make_windows(X_val_np,   Tin, Tout)\n",
    "te_enc, te_dec, te_tgt = make_windows(X_test_np,  Tin, Tout)\n",
    "\n",
    "print(\"Train windows:\", tr_enc.shape, tr_dec.shape, tr_tgt.shape)\n",
    "print(\"Val   windows:\", va_enc.shape, va_dec.shape, va_tgt.shape)\n",
    "print(\"Test  windows:\", te_enc.shape, te_dec.shape, te_tgt.shape)"
   ]
  },
  {
   "cell_type": "code",
   "execution_count": 53,
   "id": "adacb8c7",
   "metadata": {},
   "outputs": [],
   "source": [
    "import torch\n",
    "from torch.utils.data import TensorDataset, DataLoader"
   ]
  },
  {
   "cell_type": "code",
   "execution_count": null,
   "id": "b71483fb",
   "metadata": {},
   "outputs": [],
   "source": [
    "# convert numpy windows to PyTorch tensors\n",
    "tr_enc_t  = torch.from_numpy(tr_enc)   \n",
    "tr_dec_t  = torch.from_numpy(tr_dec)   \n",
    "tr_tgt_t  = torch.from_numpy(tr_tgt)  \n",
    "\n",
    "va_enc_t  = torch.from_numpy(va_enc)\n",
    "va_dec_t  = torch.from_numpy(va_dec)\n",
    "va_tgt_t  = torch.from_numpy(va_tgt)\n"
   ]
  },
  {
   "cell_type": "code",
   "execution_count": 55,
   "id": "ae665368",
   "metadata": {},
   "outputs": [],
   "source": [
    "# datasets\n",
    "train_ds = TensorDataset(tr_enc_t, tr_dec_t, tr_tgt_t)\n",
    "val_ds   = TensorDataset(va_enc_t, va_dec_t, va_tgt_t)\n"
   ]
  },
  {
   "cell_type": "code",
   "execution_count": 56,
   "id": "e730afd8",
   "metadata": {},
   "outputs": [],
   "source": [
    "# loaders\n",
    "train_loader = DataLoader(train_ds, batch_size=64, shuffle=True, drop_last=True)\n",
    "val_loader   = DataLoader(val_ds,   batch_size=64, shuffle=False, drop_last=False)"
   ]
  },
  {
   "cell_type": "code",
   "execution_count": null,
   "id": "35746249",
   "metadata": {},
   "outputs": [],
   "source": [
    "import math\n",
    "import torch.nn as nn\n",
    "\n",
    "D = tr_enc.shape[2]   \n",
    "\n",
    "class PositionalEncoding(nn.Module):\n",
    "    def __init__(self, d_model, max_len=4096, dropout=0.1):\n",
    "        super().__init__()\n",
    "        self.drop = nn.Dropout(dropout)\n",
    "        pe = torch.zeros(max_len, d_model)\n",
    "        pos = torch.arange(0, max_len).unsqueeze(1).float()\n",
    "        div = torch.exp(torch.arange(0, d_model, 2).float() * (-math.log(10000.0)/d_model))\n",
    "        pe[:, 0::2] = torch.sin(pos * div)\n",
    "        pe[:, 1::2] = torch.cos(pos * div)\n",
    "        self.register_buffer(\"pe\", pe)\n",
    "    def forward(self, x):  # x: [S, B, E]\n",
    "        return self.drop(x + self.pe[:x.size(0)].unsqueeze(1))\n",
    "\n",
    "class TinyTransformer(nn.Module):\n",
    "    def __init__(self, d_in, d_model=64, nhead=4, enc_layers=2, dec_layers=2, ff=128, dropout=0.1):\n",
    "        super().__init__()\n",
    "        self.inp = nn.Linear(d_in, d_model)\n",
    "        self.pos = PositionalEncoding(d_model, dropout=dropout)\n",
    "        self.tf  = nn.Transformer(\n",
    "            d_model=d_model, nhead=nhead,\n",
    "            num_encoder_layers=enc_layers, num_decoder_layers=dec_layers,\n",
    "            dim_feedforward=ff, dropout=dropout, batch_first=False\n",
    "        )\n",
    "        self.out = nn.Linear(d_model, d_in)\n",
    "\n",
    "    @staticmethod\n",
    "    def tgt_mask(sz, device):\n",
    "        m = torch.triu(torch.ones(sz, sz, device=device), diagonal=1).bool()\n",
    "        return torch.zeros(sz, sz, device=device).masked_fill(m, float('-inf'))\n",
    "\n",
    "    def forward(self, src, tgt):  # src: [Tin,B,D], tgt: [Tout,B,D]\n",
    "        src = self.pos(self.inp(src))\n",
    "        tgt = self.pos(self.inp(tgt))\n",
    "        mask = self.tgt_mask(tgt.size(0), tgt.device)\n",
    "        mem  = self.tf.encoder(src)\n",
    "        dec  = self.tf.decoder(tgt, mem, tgt_mask=mask)\n",
    "        return self.out(dec)  # [Tout,B,D]"
   ]
  },
  {
   "cell_type": "code",
   "execution_count": 58,
   "id": "48ba4e90",
   "metadata": {},
   "outputs": [
    {
     "name": "stderr",
     "output_type": "stream",
     "text": [
      "/Users/nareshchethala/.virtualenv/timeseries/lib/python3.13/site-packages/torch/nn/modules/transformer.py:392: UserWarning: enable_nested_tensor is True, but self.use_nested_tensor is False because encoder_layer.self_attn.batch_first was not True(use batch_first for better inference performance)\n",
      "                                                                                          \r"
     ]
    },
    {
     "name": "stdout",
     "output_type": "stream",
     "text": [
      "Epoch 01 | train MSE=0.124152 | val MSE=0.200765\n"
     ]
    },
    {
     "name": "stderr",
     "output_type": "stream",
     "text": [
      "                                                                                          \r"
     ]
    },
    {
     "name": "stdout",
     "output_type": "stream",
     "text": [
      "Epoch 02 | train MSE=0.113694 | val MSE=0.201446\n"
     ]
    },
    {
     "name": "stderr",
     "output_type": "stream",
     "text": [
      "                                                                                          \r"
     ]
    },
    {
     "name": "stdout",
     "output_type": "stream",
     "text": [
      "Epoch 03 | train MSE=0.113277 | val MSE=0.202423\n"
     ]
    },
    {
     "name": "stderr",
     "output_type": "stream",
     "text": [
      "                                                                                          \r"
     ]
    },
    {
     "name": "stdout",
     "output_type": "stream",
     "text": [
      "Epoch 04 | train MSE=0.112537 | val MSE=0.202187\n"
     ]
    },
    {
     "name": "stderr",
     "output_type": "stream",
     "text": [
      "                                                                                          \r"
     ]
    },
    {
     "name": "stdout",
     "output_type": "stream",
     "text": [
      "Epoch 05 | train MSE=0.112624 | val MSE=0.207229\n"
     ]
    },
    {
     "name": "stderr",
     "output_type": "stream",
     "text": [
      "                                                                                          \r"
     ]
    },
    {
     "name": "stdout",
     "output_type": "stream",
     "text": [
      "Epoch 06 | train MSE=0.111355 | val MSE=0.208608\n"
     ]
    },
    {
     "name": "stderr",
     "output_type": "stream",
     "text": [
      "                                                                                          \r"
     ]
    },
    {
     "name": "stdout",
     "output_type": "stream",
     "text": [
      "Epoch 07 | train MSE=0.111191 | val MSE=0.201919\n"
     ]
    },
    {
     "name": "stderr",
     "output_type": "stream",
     "text": [
      "                                                                                          \r"
     ]
    },
    {
     "name": "stdout",
     "output_type": "stream",
     "text": [
      "Epoch 08 | train MSE=0.109424 | val MSE=0.202287\n"
     ]
    },
    {
     "name": "stderr",
     "output_type": "stream",
     "text": [
      "                                                                                          \r"
     ]
    },
    {
     "name": "stdout",
     "output_type": "stream",
     "text": [
      "Epoch 09 | train MSE=0.109479 | val MSE=0.207914\n"
     ]
    },
    {
     "name": "stderr",
     "output_type": "stream",
     "text": [
      "                                                                                          \r"
     ]
    },
    {
     "name": "stdout",
     "output_type": "stream",
     "text": [
      "Epoch 10 | train MSE=0.107717 | val MSE=0.214143\n"
     ]
    }
   ],
   "source": [
    "device = \"cuda\" if torch.cuda.is_available() else \"cpu\"\n",
    "model = TinyTransformer(d_in=D).to(device)\n",
    "opt = torch.optim.AdamW(model.parameters(), lr=1e-3)\n",
    "loss_fn = nn.MSELoss()\n",
    "\n",
    "EPOCHS = 10  \n",
    "\n",
    "for epoch in range(1, EPOCHS+1):\n",
    "    # train\n",
    "    model.train()\n",
    "    train_loss, n_train = 0.0, 0\n",
    "\n",
    "    pbar = tqdm(train_loader, desc=f\"Epoch {epoch:02d} [Train]\", leave=False)\n",
    "    for enc, dec_in, tgt in pbar:\n",
    "        enc = enc.transpose(0,1).to(device)\n",
    "        dec = dec_in.transpose(0,1).to(device)\n",
    "        tgt = tgt.transpose(0,1).to(device)\n",
    "\n",
    "        opt.zero_grad()\n",
    "        out = model(enc, dec)\n",
    "        loss = loss_fn(out, tgt)\n",
    "        loss.backward()\n",
    "        opt.step()\n",
    "\n",
    "        train_loss += loss.item() * enc.size(1)\n",
    "        n_train    += enc.size(1)\n",
    "        pbar.set_postfix({\"batch_loss\": f\"{loss.item():.6f}\"})\n",
    "\n",
    "    train_loss /= n_train\n",
    "\n",
    "    # validate\n",
    "    model.eval()\n",
    "    val_loss, n_val = 0.0, 0\n",
    "    pbar = tqdm(val_loader, desc=f\"Epoch {epoch:02d} [Val]\", leave=False)\n",
    "    with torch.no_grad():\n",
    "        for enc, dec_in, tgt in pbar:\n",
    "            enc = enc.transpose(0,1).to(device)\n",
    "            dec = dec_in.transpose(0,1).to(device)\n",
    "            tgt = tgt.transpose(0,1).to(device)\n",
    "\n",
    "            out = model(enc, dec)\n",
    "            vloss = loss_fn(out, tgt)\n",
    "\n",
    "            val_loss += vloss.item() * enc.size(1)\n",
    "            n_val    += enc.size(1)\n",
    "            pbar.set_postfix({\"batch_loss\": f\"{vloss.item():.6f}\"})\n",
    "\n",
    "    val_loss /= n_val\n",
    "    print(f\"Epoch {epoch:02d} | train MSE={train_loss:.6f} | val MSE={val_loss:.6f}\")"
   ]
  },
  {
   "cell_type": "code",
   "execution_count": 60,
   "id": "53c09d5b",
   "metadata": {},
   "outputs": [],
   "source": [
    "torch.save(model.state_dict(), \"../vanilla_transformer.pth\")"
   ]
  },
  {
   "cell_type": "code",
   "execution_count": 61,
   "id": "2fefc084",
   "metadata": {},
   "outputs": [
    {
     "data": {
      "text/plain": [
       "['scaler_log_return.joblib']"
      ]
     },
     "execution_count": 61,
     "metadata": {},
     "output_type": "execute_result"
    }
   ],
   "source": [
    "import joblib\n",
    "joblib.dump(scaler, \"scaler_log_return.joblib\")"
   ]
  },
  {
   "cell_type": "code",
   "execution_count": 62,
   "id": "7fd9e421",
   "metadata": {},
   "outputs": [],
   "source": [
    "scaler = joblib.load(\"scaler_log_return.joblib\")"
   ]
  },
  {
   "cell_type": "code",
   "execution_count": null,
   "id": "66e30d32",
   "metadata": {},
   "outputs": [],
   "source": [
    "@torch.no_grad()\n",
    "def forecast_next(model, arr_tail, steps, device):\n",
    "    \"\"\"\n",
    "    arr_tail: np.array of shape [Tin, D] (normalized features)\n",
    "    steps:    Tout\n",
    "    returns:  np.array of shape [Tout, D] (normalized predictions)\n",
    "    \"\"\"\n",
    "    model.eval()\n",
    "    x = torch.from_numpy(arr_tail.astype(np.float32)).unsqueeze(1).to(device)  \n",
    "    start = torch.zeros(1, 1, arr_tail.shape[1], device=device)                \n",
    "    # encode once\n",
    "    mem = model.tf.encoder(model.pos(model.inp(x)))\n",
    "    dec_in = start\n",
    "    preds = []\n",
    "    for _ in range(steps):\n",
    "        de  = model.pos(model.inp(dec_in))\n",
    "        m   = model.tgt_mask(de.size(0), de.device)\n",
    "        out = model.tf.decoder(de, mem, tgt_mask=m)\n",
    "        y   = model.out(out[-1:])  # [1,1,D]\n",
    "        preds.append(y)\n",
    "        dec_in = torch.cat([dec_in, y], dim=0)\n",
    "    return torch.cat(preds, dim=0).squeeze(1).cpu().numpy() "
   ]
  },
  {
   "cell_type": "code",
   "execution_count": null,
   "id": "b9c7bfc0",
   "metadata": {},
   "outputs": [
    {
     "name": "stdout",
     "output_type": "stream",
     "text": [
      "Test MSE (avg): 0.185603\n",
      "Test MAE (avg): 0.146711\n",
      "Directional Accuracy on log_return (avg): 0.499\n"
     ]
    }
   ],
   "source": [
    "def directional_accuracy(y_true, y_pred, col=0):\n",
    "    return float((np.sign(y_true[:, col]) == np.sign(y_pred[:, col])).mean())\n",
    "\n",
    "mse_list, mae_list, da_list = [], [], []\n",
    "\n",
    "for i in range(len(te_enc)):\n",
    "    yhat = forecast_next(model, te_enc[i], steps=Tout, device=device) \n",
    "    ytrue = te_tgt[i]                                                 \n",
    "    mse = np.mean((ytrue - yhat)**2)\n",
    "    mae = np.mean(np.abs(ytrue - yhat))\n",
    "    da  = directional_accuracy(ytrue, yhat, col=0) \n",
    "    mse_list.append(mse); mae_list.append(mae); da_list.append(da)\n",
    "\n",
    "print(f\"Test MSE (avg): {np.mean(mse_list):.6f}\")\n",
    "print(f\"Test MAE (avg): {np.mean(mae_list):.6f}\")\n",
    "print(f\"Directional Accuracy on log_return (avg): {np.mean(da_list):.3f}\")"
   ]
  },
  {
   "cell_type": "code",
   "execution_count": null,
   "id": "18e05b35",
   "metadata": {},
   "outputs": [],
   "source": [
    "# pick one test window to inspect\n",
    "yhat_norm = forecast_next(model, te_enc[0], steps=Tout, device=device)\n",
    "ytrue_norm = te_tgt[0]\n",
    "\n",
    "# invert scaling for the log_return column (col 0)\n",
    "def invert_log_return_scaling(norm_seq_col0, scaler):\n",
    "    return scaler.inverse_transform(norm_seq_col0.reshape(-1,1)).reshape(-1)\n",
    "\n",
    "yhat_logret = invert_log_return_scaling(yhat_norm[:,0], scaler)\n",
    "ytrue_logret = invert_log_return_scaling(ytrue_norm[:,0], scaler)\n",
    "\n",
    "# reconstruct prices from the last known close before this window\n",
    "last_known_close = spx_test[\"close\"].iloc[Tin-1]  # aligned with your windowing\n",
    "pred_prices = [last_known_close]\n",
    "for r in yhat_logret:\n",
    "    pred_prices.append(pred_prices[-1] * np.exp(r))\n",
    "pred_prices = np.array(pred_prices[1:])  # length == Tout"
   ]
  },
  {
   "cell_type": "code",
   "execution_count": 67,
   "id": "4bdc85ea",
   "metadata": {},
   "outputs": [],
   "source": [
    "import joblib\n",
    "torch.save(model.state_dict(), \"vanilla_transformer_spx.pt\")\n",
    "joblib.dump(scaler, \"scaler_log_return.joblib\")\n",
    "np.savez(\"config_windows.npz\", Tin=Tin, Tout=Tout, D=D)"
   ]
  },
  {
   "cell_type": "code",
   "execution_count": null,
   "id": "aacec94d",
   "metadata": {},
   "outputs": [],
   "source": []
  }
 ],
 "metadata": {
  "kernelspec": {
   "display_name": "timeseries",
   "language": "python",
   "name": "python3"
  },
  "language_info": {
   "codemirror_mode": {
    "name": "ipython",
    "version": 3
   },
   "file_extension": ".py",
   "mimetype": "text/x-python",
   "name": "python",
   "nbconvert_exporter": "python",
   "pygments_lexer": "ipython3",
   "version": "3.13.0"
  }
 },
 "nbformat": 4,
 "nbformat_minor": 5
}
